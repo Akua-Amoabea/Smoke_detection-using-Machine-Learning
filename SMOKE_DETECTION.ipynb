{
  "nbformat": 4,
  "nbformat_minor": 0,
  "metadata": {
    "colab": {
      "provenance": [],
      "authorship_tag": "ABX9TyOuL6jNvOX70WnhfU3c+B3v",
      "include_colab_link": true
    },
    "kernelspec": {
      "name": "python3",
      "display_name": "Python 3"
    },
    "language_info": {
      "name": "python"
    }
  },
  "cells": [
    {
      "cell_type": "markdown",
      "metadata": {
        "id": "view-in-github",
        "colab_type": "text"
      },
      "source": [
        "<a href=\"https://colab.research.google.com/github/Akua-Amoabea/Smoke_detection-using-Machine-Learning/blob/main/SMOKE_DETECTION.ipynb\" target=\"_parent\"><img src=\"https://colab.research.google.com/assets/colab-badge.svg\" alt=\"Open In Colab\"/></a>"
      ]
    },
    {
      "cell_type": "markdown",
      "source": [
        "## **COMPARATIVE STUDY OF SMOKE DETECTION FOR REAL-TIME IOT APPLICATIONS USING  LOGISTIC REGRESSION, ANN & DECISION TREE**"
      ],
      "metadata": {
        "id": "VU9VCDkMRyK8"
      }
    },
    {
      "cell_type": "code",
      "execution_count": null,
      "metadata": {
        "id": "9W5vPbmtnhSW"
      },
      "outputs": [],
      "source": [
        "import numpy as np\n",
        "import pandas as pd\n",
        "import matplotlib.pyplot as plt\n",
        "import tensorflow as tf\n",
        "from tensorflow import keras\n",
        "from keras.models import load_model\n",
        "from keras.models import Sequential\n",
        "from keras.layers import Dense, Dropout, Flatten\n",
        "from sklearn.metrics import confusion_matrix\n",
        "from sklearn.model_selection import train_test_split\n",
        "from sklearn.preprocessing import MinMaxScaler\n",
        "from sklearn.linear_model import LogisticRegression\n",
        "from sklearn.tree import DecisionTreeClassifier\n",
        "import seaborn as sns\n",
        "np.random.seed(0)\n",
        "from google.colab import drive"
      ]
    },
    {
      "cell_type": "code",
      "source": [
        "drive.mount('/content/drive')"
      ],
      "metadata": {
        "id": "pkIdLDqKnn2N"
      },
      "execution_count": null,
      "outputs": []
    },
    {
      "cell_type": "code",
      "source": [
        "data = pd.read_csv('/content/drive/MyDrive/smoke_detection_iot.csv')"
      ],
      "metadata": {
        "id": "vxLyJQLgo5Fp"
      },
      "execution_count": null,
      "outputs": []
    },
    {
      "cell_type": "code",
      "source": [
        "data.head()"
      ],
      "metadata": {
        "id": "lwVeepKFpUuD"
      },
      "execution_count": null,
      "outputs": []
    },
    {
      "cell_type": "code",
      "source": [
        "# The size of the dataset\n",
        "data.shape"
      ],
      "metadata": {
        "id": "0EPf9BrJrn9h"
      },
      "execution_count": null,
      "outputs": []
    },
    {
      "cell_type": "code",
      "source": [
        "data['Fire Alarm'].value_counts().plot.bar()"
      ],
      "metadata": {
        "id": "Ec7k23ymprHE"
      },
      "execution_count": null,
      "outputs": []
    },
    {
      "cell_type": "code",
      "source": [
        "# Shuffling the dataset\n",
        "data = data.sample(frac = 1)\n",
        "data.head()"
      ],
      "metadata": {
        "id": "hpAMw6o4sPZo"
      },
      "execution_count": null,
      "outputs": []
    },
    {
      "cell_type": "code",
      "source": [
        "data_features = data.columns[:-1].to_list()\n",
        "x = data[data_features].values\n",
        "y = data['Fire Alarm'].values\n",
        "\n"
      ],
      "metadata": {
        "id": "w-glczbdt8_4"
      },
      "execution_count": null,
      "outputs": []
    },
    {
      "cell_type": "code",
      "source": [
        "# splitting dataset into train, test & Validation set\n",
        "X_train, X_, y_train, y_ = train_test_split(x, y, test_size=0.2, random_state=42)\n",
        "X_val, X_test, y_val, y_test = train_test_split(X_, y_, test_size=.5, random_state=42)\n",
        "print(f\"X train {X_train.shape}\")\n",
        "print(f\"X val {X_val.shape}\")\n",
        "print(f\"X test {X_test.shape}\")\n",
        "print(f\"Y train {y_train.shape}\")\n",
        "print(f\"Y val {y_val.shape}\")\n",
        "print(f\"Y test {y_test.shape}\")"
      ],
      "metadata": {
        "id": "PEm55f5Fs5cy"
      },
      "execution_count": null,
      "outputs": []
    },
    {
      "cell_type": "code",
      "source": [
        "#Feature Scaling for normalization using MinMax Scaler\n",
        "scalar = MinMaxScaler()\n",
        "scalar.fit(X_train)\n",
        "X_train = scalar.transform(X_train)\n",
        "X_val = scalar.transform(X_val)\n",
        "X_test = scalar.transform(X_test)"
      ],
      "metadata": {
        "id": "PV1c119wv1HA"
      },
      "execution_count": null,
      "outputs": []
    },
    {
      "cell_type": "markdown",
      "source": [
        "# **Training Data using Logisitic Regression**"
      ],
      "metadata": {
        "id": "DNlwsfbzDVCn"
      }
    },
    {
      "cell_type": "code",
      "source": [
        "logreg = LogisticRegression(C=50).fit(X_train, y_train)\n",
        "L_train = logreg.score(X_train, y_train)\n",
        "L_Val= logreg.score(X_val,y_val)\n",
        "L_test = logreg.predict(X_test)\n",
        "print(f\"Training accuracy: {L_train}\")\n",
        "print(f\"Validation accuracy: {L_Val}\")\n",
        "\n"
      ],
      "metadata": {
        "id": "sbM93hdKCZ6U"
      },
      "execution_count": null,
      "outputs": []
    },
    {
      "cell_type": "markdown",
      "source": [
        "# **Training Data on ANN**"
      ],
      "metadata": {
        "id": "FPpSwCalH-np"
      }
    },
    {
      "cell_type": "code",
      "source": [
        "model = Sequential()\n",
        "model.add(Dense(units= 16, activation ='relu'))\n",
        "model.add(Dense(units= 128, activation = 'relu'))\n",
        "model.add(Dense(units= 512, activation = 'relu'))\n",
        "model.add(Dense(units= 1, activation = 'sigmoid'))\n",
        "\n",
        "model.compile(optimizer=keras.optimizers.Adam(learning_rate=0.01), loss=tf.keras.losses.BinaryCrossentropy(), metrics=['accuracy'])\n",
        "history = model.fit(X_train, y_train, validation_data=(X_val, y_val), epochs=5, verbose=1)"
      ],
      "metadata": {
        "id": "D7ZxRelaDsGf"
      },
      "execution_count": null,
      "outputs": []
    },
    {
      "cell_type": "code",
      "source": [
        "model.summary()"
      ],
      "metadata": {
        "colab": {
          "base_uri": "https://localhost:8080/",
          "height": 141
        },
        "id": "b2mk1Zg1LU8Y",
        "outputId": "e55a90e0-e02f-4042-8d9a-e705e53f5893"
      },
      "execution_count": null,
      "outputs": [
        {
          "output_type": "error",
          "ename": "NameError",
          "evalue": "name 'model' is not defined",
          "traceback": [
            "\u001b[0;31m---------------------------------------------------------------------------\u001b[0m",
            "\u001b[0;31mNameError\u001b[0m                                 Traceback (most recent call last)",
            "\u001b[0;32m<ipython-input-1-5f15418b3570>\u001b[0m in \u001b[0;36m<cell line: 1>\u001b[0;34m()\u001b[0m\n\u001b[0;32m----> 1\u001b[0;31m \u001b[0mmodel\u001b[0m\u001b[0;34m.\u001b[0m\u001b[0msummary\u001b[0m\u001b[0;34m(\u001b[0m\u001b[0;34m)\u001b[0m\u001b[0;34m\u001b[0m\u001b[0;34m\u001b[0m\u001b[0m\n\u001b[0m",
            "\u001b[0;31mNameError\u001b[0m: name 'model' is not defined"
          ]
        }
      ]
    },
    {
      "cell_type": "code",
      "source": [
        "plt.plot(history.history['accuracy'])\n",
        "plt.plot(history.history['val_accuracy'])\n",
        "plt.legend(['training', 'validation'])"
      ],
      "metadata": {
        "colab": {
          "base_uri": "https://localhost:8080/",
          "height": 449
        },
        "id": "S34MX4iBImU9",
        "outputId": "c735c016-7439-4dcb-9942-9d1732ed5500"
      },
      "execution_count": null,
      "outputs": [
        {
          "output_type": "execute_result",
          "data": {
            "text/plain": [
              "<matplotlib.legend.Legend at 0x7dab40a7f5e0>"
            ]
          },
          "metadata": {},
          "execution_count": 64
        },
        {
          "output_type": "display_data",
          "data": {
            "text/plain": [
              "<Figure size 640x480 with 1 Axes>"
            ],
            "image/png": "[encoded data removed]"
          },
          "metadata": {}
        }
      ]
    },
    {
      "cell_type": "markdown",
      "source": [
        "# **Training  Data using Descision Tree**"
      ],
      "metadata": {
        "id": "jumD-_33NeqM"
      }
    },
    {
      "cell_type": "code",
      "source": [
        "tree = DecisionTreeClassifier(random_state=0)\n",
        "tree.fit(X_train, y_train)\n",
        "T_train = tree.score(X_train, y_train)\n",
        "T_Val= tree.score(X_val,y_val)\n",
        "\n",
        "print(f\"Training accuracy: {T_train}\")\n",
        "print(f\"Validation accuracy: {T_Val}\")"
      ],
      "metadata": {
        "colab": {
          "base_uri": "https://localhost:8080/"
        },
        "id": "jQYOY4EXMsn-",
        "outputId": "db3d8292-45f2-45ed-c2e9-bfcb708f4670"
      },
      "execution_count": null,
      "outputs": [
        {
          "output_type": "stream",
          "name": "stdout",
          "text": [
            "Training accuracy: 1.0\n",
            "Validation accuracy: 1.0\n"
          ]
        }
      ]
    }
  ]
}